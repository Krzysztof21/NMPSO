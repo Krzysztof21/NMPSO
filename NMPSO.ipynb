{
  "nbformat": 4,
  "nbformat_minor": 0,
  "metadata": {
    "colab": {
      "name": "NMPSO release",
      "provenance": []
    },
    "kernelspec": {
      "name": "python3",
      "display_name": "Python 3"
    }
  },
  "cells": [
    {
      "cell_type": "code",
      "metadata": {
        "id": "1It0bnOZvzrF",
        "colab_type": "code",
        "colab": {}
      },
      "source": [
        "import numpy as np\n",
        "import random\n",
        "import copy\n",
        "import math"
      ],
      "execution_count": 0,
      "outputs": []
    },
    {
      "cell_type": "code",
      "metadata": {
        "id": "oyyYgwWPVt8v",
        "colab_type": "code",
        "colab": {}
      },
      "source": [
        "#mock objectives:\n",
        "def obj1(aa):\n",
        "  return np.sum(np.sin(aa), axis = 0)\n",
        "\n",
        "def obj2(bb):\n",
        "  return np.sum(np.cos(bb), axis = 0)\n",
        "\n",
        "def binh2d(aa):\n",
        "  ret = []\n",
        "  for i in range(len(aa)):\n",
        "    ret.append(4*aa[i,0]**2 + 4*aa[i,1]**2)\n",
        "  return np.array(ret)\n",
        "\n",
        "def korn2d(aa):\n",
        "  ret = []\n",
        "  for i in range(len(aa)):\n",
        "    ret.append((aa[i,0]-5)**2 + (aa[i,1]-5)**2)\n",
        "  return np.array(ret) \n",
        "\n",
        "objectives = [binh2d, korn2d]"
      ],
      "execution_count": 0,
      "outputs": []
    },
    {
      "cell_type": "code",
      "metadata": {
        "id": "w3cNAn12FV3q",
        "colab_type": "code",
        "outputId": "12d99aee-e932-4454-b594-b6ce482a90cc",
        "colab": {
          "base_uri": "https://localhost:8080/",
          "height": 134
        }
      },
      "source": [
        "a = np.array([[1,2,3,4],[4,5,6,7]]).transpose()\n",
        "print(a.shape)\n",
        "b= np.array([1,2,3,4])\n",
        "print(np.multiply(4, a[0]) + np.multiply(4, a[1]))\n",
        "print(binh2d(a))\n",
        "a[:,0] = binh2d(a)\n",
        "print(a)"
      ],
      "execution_count": 0,
      "outputs": [
        {
          "output_type": "stream",
          "text": [
            "(4, 2)\n",
            "[12 36]\n",
            "[ 68 116 180 260]\n",
            "[[ 68   4]\n",
            " [116   5]\n",
            " [180   6]\n",
            " [260   7]]\n"
          ],
          "name": "stdout"
        }
      ]
    },
    {
      "cell_type": "code",
      "metadata": {
        "id": "E1Hr6K1pYm-U",
        "colab_type": "code",
        "outputId": "28920874-3131-41b0-b7a1-fda091d3afda",
        "colab": {
          "base_uri": "https://localhost:8080/",
          "height": 246
        }
      },
      "source": [
        "current_objectives = np.zeros((10,2))\n",
        "print(current_objectives.shape)\n",
        "positions = np.random.rand(10,5)\n",
        "for i in range(len(objectives)):\n",
        "      current_objectives[i] = objectives[i](positions)\n",
        "      print(positions.shape)\n",
        "      print(objectives[i](positions).shape)\n",
        "print(current_objectives)\n",
        "print(current_objectives.shape)"
      ],
      "execution_count": 0,
      "outputs": [
        {
          "output_type": "stream",
          "text": [
            "(10, 2)\n"
          ],
          "name": "stdout"
        },
        {
          "output_type": "error",
          "ename": "ValueError",
          "evalue": "ignored",
          "traceback": [
            "\u001b[0;31m---------------------------------------------------------------------------\u001b[0m",
            "\u001b[0;31mValueError\u001b[0m                                Traceback (most recent call last)",
            "\u001b[0;32m<ipython-input-24-45192fa07a3a>\u001b[0m in \u001b[0;36m<module>\u001b[0;34m()\u001b[0m\n\u001b[1;32m      3\u001b[0m \u001b[0mpositions\u001b[0m \u001b[0;34m=\u001b[0m \u001b[0mnp\u001b[0m\u001b[0;34m.\u001b[0m\u001b[0mrandom\u001b[0m\u001b[0;34m.\u001b[0m\u001b[0mrand\u001b[0m\u001b[0;34m(\u001b[0m\u001b[0;36m10\u001b[0m\u001b[0;34m,\u001b[0m\u001b[0;36m5\u001b[0m\u001b[0;34m)\u001b[0m\u001b[0;34m\u001b[0m\u001b[0;34m\u001b[0m\u001b[0m\n\u001b[1;32m      4\u001b[0m \u001b[0;32mfor\u001b[0m \u001b[0mi\u001b[0m \u001b[0;32min\u001b[0m \u001b[0mrange\u001b[0m\u001b[0;34m(\u001b[0m\u001b[0mlen\u001b[0m\u001b[0;34m(\u001b[0m\u001b[0mobjectives\u001b[0m\u001b[0;34m)\u001b[0m\u001b[0;34m)\u001b[0m\u001b[0;34m:\u001b[0m\u001b[0;34m\u001b[0m\u001b[0;34m\u001b[0m\u001b[0m\n\u001b[0;32m----> 5\u001b[0;31m       \u001b[0mcurrent_objectives\u001b[0m\u001b[0;34m[\u001b[0m\u001b[0mi\u001b[0m\u001b[0;34m]\u001b[0m \u001b[0;34m=\u001b[0m \u001b[0mobjectives\u001b[0m\u001b[0;34m[\u001b[0m\u001b[0mi\u001b[0m\u001b[0;34m]\u001b[0m\u001b[0;34m(\u001b[0m\u001b[0mpositions\u001b[0m\u001b[0;34m)\u001b[0m\u001b[0;34m\u001b[0m\u001b[0;34m\u001b[0m\u001b[0m\n\u001b[0m\u001b[1;32m      6\u001b[0m       \u001b[0mprint\u001b[0m\u001b[0;34m(\u001b[0m\u001b[0mpositions\u001b[0m\u001b[0;34m.\u001b[0m\u001b[0mshape\u001b[0m\u001b[0;34m)\u001b[0m\u001b[0;34m\u001b[0m\u001b[0;34m\u001b[0m\u001b[0m\n\u001b[1;32m      7\u001b[0m       \u001b[0mprint\u001b[0m\u001b[0;34m(\u001b[0m\u001b[0mobjectives\u001b[0m\u001b[0;34m[\u001b[0m\u001b[0mi\u001b[0m\u001b[0;34m]\u001b[0m\u001b[0;34m(\u001b[0m\u001b[0mpositions\u001b[0m\u001b[0;34m)\u001b[0m\u001b[0;34m.\u001b[0m\u001b[0mshape\u001b[0m\u001b[0;34m)\u001b[0m\u001b[0;34m\u001b[0m\u001b[0;34m\u001b[0m\u001b[0m\n",
            "\u001b[0;31mValueError\u001b[0m: could not broadcast input array from shape (10) into shape (2)"
          ]
        }
      ]
    },
    {
      "cell_type": "code",
      "metadata": {
        "id": "PzmcqYOzpnKE",
        "colab_type": "code",
        "colab": {}
      },
      "source": [
        "class Swarm:\n",
        "\n",
        "  def __init__(self, size, dims, objectives):\n",
        "    self.size = size #no of particles\n",
        "    self.dims = dims #no of dimensions\n",
        "    self.objectives = objectives #list of objective functions\n",
        "    self.positions = np.zeros((size, dims)) #shape: size x dims\n",
        "    self.velocities = np.zeros((size, dims)) #shape: size x dims\n",
        "    self.fitnesses = np.zeros(size) #shape: size x 1\n",
        "    self.diversity = np.zeros(size) #shape: size x 1\n",
        "    self.convergence = np.zeros(size) #shape: size x 1\n",
        "\n",
        "    self.current_objectives = np.zeros((size, len(objectives))) #shape: size x size(objectives)\n",
        "    self.all_objectives = []#????\n",
        "    self.sde = np.zeros((size, len(objectives))) #shape: size x size(objectives)\n",
        "    self.sde_sum = np.zeros(size) #shape: size x size(objectives)\n",
        "    self.best_positions = np.zeros((size, dims)) #shape: size x dims\n",
        "    self.best_position_objectives = np.zeros((size, len(objectives))) #shape: size x 1\n",
        "    self.alphas = np.ones(size) #shape: size x 1 ???\n",
        "    self.betas = np.ones(size) #shape: size x 1 ???\n",
        "    self.position_minima = np.zeros((size, dims))\n",
        "    self.position_maxima = np.zeros((size, dims))\n",
        "    self.velocity_minima = np.zeros((size, dims))\n",
        "    self.velocity_maxima = np.zeros((size, dims))\n",
        "\n",
        "  def init_swarm(self):\n",
        "    self.positions = np.random.rand(self.size,self.dims)\n",
        "    self.velocities = np.random.rand(self.size,self.dims)\n",
        "    self.evaluate_objectives()\n",
        "    self.evaluate_fitnesses()\n",
        "\n",
        "  def init_swarm_values(self, positions, velocities):\n",
        "    self.positions = positions\n",
        "    self.velocities = velocities\n",
        "    self.evaluate_objectives()\n",
        "    self.evaluate_fitnesses()\n",
        "\n",
        "  def normalization(self, objectives_no, objectives_min, objectives_max):\n",
        "    for i in range(objectives_no):\n",
        "      for p in range(len(self.positions)):\n",
        "        self.current_objectives = (self.current_objectives - objectives_min[i])/(objectives_max[i]-objectives_min[i])\n",
        "\n",
        "  def evaluate_objectives(self):\n",
        "    #evaluate and set self.objectives\n",
        "    #sets whole objectives array\n",
        "    for i in range(len(self.objectives)):\n",
        "      self.current_objectives[:,i] = self.objectives[i](self.positions)\n",
        "\n",
        "  def set_best_positions(self):\n",
        "    #sets individual best positions\n",
        "    for i in range(self.size):\n",
        "      if check_dominance(self.best_position_objectives[i], self.current_objectives[i]) == -1:\n",
        "        self.best_positions[i] = self.positions[i]\n",
        "\n",
        "  def calculate_sde(self):\n",
        "    for i in range(len(self.objectives)):\n",
        "      for p1 in range(len(self.positions)):\n",
        "        sde = 0\n",
        "        for p2 in range(len(self.positions)):\n",
        "          if p1 != p2:\n",
        "            sde = sde + (self.current_objectives[p1, i]-self.current_objectives[p2, i])**2\n",
        "        self.sde[p1, i] = sde\n",
        "    for p in range(len(self.positions)):\n",
        "      self.sde_sum[p] = sum(self.sde[p])\n",
        "      self.sde_sum[p] = math.sqrt(self.sde_sum[p])\n",
        "\n",
        "  def calculate_normalized_diversity(self):\n",
        "    self.calculate_sde()\n",
        "    for p in range(len(self.positions)):\n",
        "      self.diversity[p] = (self.sde_sum[p]-min(self.sde_sum))/(max(self.sde_sum)-min(self.sde_sum)+1)\n",
        "\n",
        "  def calculate_convergence_distance(self):\n",
        "    for p in range(len(self.positions)):\n",
        "      dis = 0\n",
        "      for i in range(len(self.objectives)):\n",
        "        dis = dis + self.current_objectives[p, i]**2\n",
        "      dis = math.sqrt(dis)\n",
        "      self.convergence[p] = 1-(dis/math.sqrt(len(self.objectives)))\n",
        "\n",
        "  def evaluate_fitnesses(self):\n",
        "    objectives_min = self.get_min_objectives()\n",
        "    objectives_max = self.get_max_objectives()\n",
        "    self.normalization(len(self.objectives), objectives_min, objectives_max)\n",
        "    \n",
        "    self.calculate_normalized_diversity()\n",
        "    self.calculate_convergence_distance()\n",
        "\n",
        "    for p in range(self.size):\n",
        "      self.fitnesses[p] = self.alphas[p] * self.diversity[p] + self.betas[p] * self.convergence[p]\n",
        "      #self.fitnesses[p] = self.diversity[p] + self.convergence[p]\n",
        "\n",
        "    #print(self.fitnesses)\n",
        "    #print(\"Positions: \", self.positions)\n",
        "\n",
        "  def update_velocities(self, archive):\n",
        "    #equation 10, page 5\n",
        "    #are lr different for each parrticle?\n",
        "    #are random different for each particle\n",
        "    global_best = archive.get_best_position()\n",
        "    for i in range(self.dims):\n",
        "      a = inertial_weight*self.velocities[:,i]\n",
        "      b = lr_1 * random.uniform(0,1) * (self.best_positions[:,i] - self.positions[:,i])\n",
        "      c = lr_2 * random.uniform(0,1) * (global_best[i] - self.positions[:,i])\n",
        "      d = lr_3 * random.uniform(0,1) * (global_best[i] - self.best_positions[:,i])\n",
        "      self.velocities[:,i] = a + b + c + d\n",
        "\n",
        "  def update_positions(self):\n",
        "    self.positions = self.positions + self.velocities\n",
        "    pass\n",
        "\n",
        "  def mutation(self, mutation_rate):\n",
        "    for i in range(self.dims):\n",
        "      if random.random() < mutation_rate: #position mutation\n",
        "        self.positions[i] = self.positions[i] + np.random.uniform(-0.1, 0.1, self.dims)\n",
        "      if random.random() < mutation_rate: #velocity mutation\n",
        "        self.velocities[i] = self.velocities[i] + np.random.uniform(-0.1, 0.1, self.dims)\n",
        "\n",
        "  def update_extrema(self):\n",
        "    for i in range(self.positions.shape[1]):\n",
        "      self.position_minima[i] = self.positions[:,i].min()\n",
        "      self.position_maxima[i] = self.positions[:,i].max()\n",
        "      self.velocity_minima[i] = self.velocities[:,i].min()\n",
        "      self.velocity_maxima[i] = self.velocities[:,i].max()\n",
        "\n",
        "  def get_min_objectives(self):\n",
        "        return np.min(self.current_objectives, axis=0)\n",
        "\n",
        "  def get_max_objectives(self):\n",
        "        return np.max(self.current_objectives, axis=0)\n",
        "\n",
        "  def reset_swarm(self):\n",
        "    self.positions = np.array((0,0))\n",
        "\n",
        "  def add_particle(self, position_velocity):\n",
        "    #takes a tuple [position, velocity]\n",
        "    self.positions.append(positions_velocity[0])\n",
        "    self.velocities.append(positions_velocity[1])"
      ],
      "execution_count": 0,
      "outputs": []
    },
    {
      "cell_type": "code",
      "metadata": {
        "id": "Cy1SC-UOULJB",
        "colab_type": "code",
        "colab": {}
      },
      "source": [
        "#unit testing\n",
        "lr_1, lr_2, lr_3 = 1, 1, 1\n",
        "inertial_weight = 1\n",
        "roj = Swarm(10, 5, objectives)\n",
        "roj.evaluate_objectives()\n",
        "roj.init_swarm()\n",
        "roj.update_extrema()\n",
        "roj.mutation(0.2)\n",
        "print(roj.fitnesses)\n",
        "print(roj.positions)"
      ],
      "execution_count": 0,
      "outputs": []
    },
    {
      "cell_type": "code",
      "metadata": {
        "id": "ZBZD1zrUwBuH",
        "colab_type": "code",
        "colab": {}
      },
      "source": [
        "#unit testing\n",
        "print(roj.velocities)\n",
        "roj.update_velocities()\n",
        "print(roj.velocities)"
      ],
      "execution_count": 0,
      "outputs": []
    },
    {
      "cell_type": "code",
      "metadata": {
        "id": "sAWdOID9xw5L",
        "colab_type": "code",
        "colab": {}
      },
      "source": [
        "#unit testing\n",
        "print(roj.positions)\n",
        "roj.update_positions()\n",
        "print(roj.positions)"
      ],
      "execution_count": 0,
      "outputs": []
    },
    {
      "cell_type": "code",
      "metadata": {
        "id": "2xHsUiQPZVAQ",
        "colab_type": "code",
        "colab": {}
      },
      "source": [
        "def check_dominance(a, b):\n",
        "  '''check Pareto dominance of two vectors of arbitrary lenght\n",
        "    - return 1 if A dominates B\n",
        "    - return -1 if B dominates A or are equal'''\n",
        "  if len(a) != len(b):\n",
        "    return \"Error\"\n",
        "  for i in range(0, len(a)):\n",
        "    if a[i] > b[i]:\n",
        "      return -1\n",
        "  for j in range(0, len(a)):\n",
        "    if a[j] < b[j]:\n",
        "      return 1\n",
        "  return -1"
      ],
      "execution_count": 0,
      "outputs": []
    },
    {
      "cell_type": "markdown",
      "metadata": {
        "id": "R3l_2nIoKPyE",
        "colab_type": "text"
      },
      "source": [
        "#Archive"
      ]
    },
    {
      "cell_type": "code",
      "metadata": {
        "id": "aob6oKmJWD5u",
        "colab_type": "code",
        "colab": {}
      },
      "source": [
        "class Archive:\n",
        "    def __init__(self, max_size, dims, objectives):\n",
        "        self.max_size = max_size\n",
        "        self.arch = Swarm(max_size, dims, objectives)\n",
        "        self.arch.init_swarm()\n",
        "            \n",
        "    def archive_update(self, swarm):\n",
        "      swarm_dominated = np.zeros(swarm.size, dtype=bool) #F if objective not dominated, T if dominated\n",
        "\n",
        "      for i in range(swarm.size):\n",
        "        arch_dominated = np.zeros(self.arch.size, dtype=bool) #F if objective not dominated, T if dominated\n",
        "        for j in range(self.arch.size):\n",
        "          flag = check_dominance(swarm.current_objectives[i,:], self.arch.current_objectives[j,:])\n",
        "          if flag == 1:\n",
        "            arch_dominated[j] = True\n",
        "          elif flag == -1:\n",
        "            swarm_dominated[i] = True\n",
        "            break\n",
        "        #delete dominated solutions from A\n",
        "        arch_temp_positions = self.arch.positions[arch_dominated,...]\n",
        "        arch_temp_velocities = self.arch.velocities[arch_dominated,...]\n",
        "        if swarm_dominated[i] == False:\n",
        "          arch_temp_positions.append(swarm.positions[i])\n",
        "          arch_temp_velocities.append(swarm.velocities[i])\n",
        "          if len(arch_temp_positions) > self.max_size:\n",
        "            self.arch = Swarm(len(arch_temp_positions), dims, objectives)\n",
        "            self.arch.init_swarm_values(arch_temp_positions, arch_temp_velocities)\n",
        "            del_index = np.argmin(self.arch.fitnesses)\n",
        "            result = np.delete(result, 1, axis=0)\n",
        "            arch_temp_positions = np.delete(self.arch.positions, del_index, axis=0)\n",
        "            arch_temp_velocities = np.delete(self.arch.velocities, del_index, axis=0)\n",
        "            self.arch = Swarm(len(arch_temp_positions), dims, objectives)\n",
        "            self.arch.init_swarm_values(arch_temp_positions, arch_temp_velocities)\n",
        "\n",
        "    def get_best_position(self):\n",
        "        '''Return  position of one randomly chosen particle from best 10% in current archive'''\n",
        "        best_ind = np.argpartition(self.arch.fitnesses, -int(self.arch.fitnesses.size/10))[-int(self.arch.fitnesses.size/10):]\n",
        "        choice = np.random.choice(best_ind, 1)\n",
        "        return self.arch.positions[choice].transpose()\n",
        "    \n",
        "    def evaluate_fitnesses(self):\n",
        "      self.arch.evaluate_fitnesses()"
      ],
      "execution_count": 0,
      "outputs": []
    },
    {
      "cell_type": "markdown",
      "metadata": {
        "id": "181NL4_0B1VZ",
        "colab_type": "text"
      },
      "source": [
        "#Evolutionary search"
      ]
    },
    {
      "cell_type": "code",
      "metadata": {
        "id": "bd5ondd_qbf7",
        "colab_type": "code",
        "colab": {}
      },
      "source": [
        "def select_individual_by_tournament(swarm):\n",
        "    fitnesses = swarm.fitnesses\n",
        "    # Pick individuals for tournament\n",
        "    fighter_1 = random.randint(0, swarm.size-1)\n",
        "    fighter_2 = random.randint(0, swarm.size-1)\n",
        "    \n",
        "    # Get fitness score for each\n",
        "    fighter_1_fitness = fitnesses[fighter_1]\n",
        "    fighter_2_fitness = fitnesses[fighter_2]\n",
        "    \n",
        "    # Identify undividual with lowest fitness\n",
        "    # Fighter 1 will win if score are equal\n",
        "    if fighter_1_fitness <= fighter_2_fitness:\n",
        "        winner = fighter_1\n",
        "    else:\n",
        "        winner = fighter_2\n",
        "    \n",
        "    # Return the chromosome of the winner\n",
        "    return swarm.positions[winner, :], swarm.velocities[winner, :]\n",
        "\n",
        "def breed_by_crossover(parent_1, parent_2):\n",
        "    # Get length of chromosome\n",
        "    chromosome_length = len(parent_1[0])\n",
        "    \n",
        "    # Pick crossover point, avoding ends of chromsome\n",
        "    crossover_point = random.randint(1,chromosome_length-1)\n",
        "    \n",
        "    # Create children. np.hstack joins two arrays\n",
        "    child_1 = np.hstack((parent_1[0][0:crossover_point], parent_2[0][crossover_point:])), np.hstack((parent_1[1][0:crossover_point], parent_2[1][crossover_point:]))\n",
        "    \n",
        "    child_2 = np.hstack((parent_2[0][0:crossover_point], parent_1[0][crossover_point:])), np.hstack((parent_2[1][0:crossover_point], parent_1[1][crossover_point:]))\n",
        "    \n",
        "    # Return children\n",
        "    return child_1, child_2\n",
        "\n",
        "def evolutionary_search(archive):\n",
        "  swarm = archive.arch\n",
        "  # Create an empty list for new population\n",
        "  new_swarm = Swarm(swarm.size, swarm.dims, swarm.objectives)\n",
        "  new_pos = []\n",
        "  new_velo = []\n",
        "\n",
        "  # Create new popualtion generating two children at a time\n",
        "  #POSITION AND VELOCITY\n",
        "  for i in range(int(swarm.size/2)):\n",
        "      parent_1 = select_individual_by_tournament(swarm)\n",
        "      parent_2 = select_individual_by_tournament(swarm)\n",
        "      child_1, child_2 = breed_by_crossover(parent_1, parent_2)\n",
        "      new_pos.append(child_1[0])\n",
        "      new_pos.append(child_2[0])\n",
        "      new_velo.append(child_1[1])\n",
        "      new_velo.append(child_2[1])\n",
        "\n",
        "  new_swarm.positions = np.array(new_pos)\n",
        "  new_swarm.velocities = np.array(new_velo)\n",
        "  \n",
        "  # Replace the old population with the new one\n",
        "  swarm = new_swarm\n",
        "  swarm.evaluate_objectives()\n",
        "  swarm.evaluate_fitnesses()\n",
        "  # Apply mutation\n",
        "  mutation_rate = 0.5\n",
        "  swarm.mutation(mutation_rate)\n",
        "  \n",
        "  return swarm"
      ],
      "execution_count": 0,
      "outputs": []
    },
    {
      "cell_type": "code",
      "metadata": {
        "id": "6ixgomS6xSk2",
        "colab_type": "code",
        "colab": {}
      },
      "source": [
        "old = copy.deepcopy(roj.positions)\n",
        "#print(roj.positions)\n",
        "roj = evolutionary_search(roj)\n",
        "np.set_printoptions(3)\n",
        "print(old - roj.positions)"
      ],
      "execution_count": 0,
      "outputs": []
    },
    {
      "cell_type": "markdown",
      "metadata": {
        "id": "7zs2nq4HS3Rx",
        "colab_type": "text"
      },
      "source": [
        "#Initialization"
      ]
    },
    {
      "cell_type": "code",
      "metadata": {
        "id": "j0gvwaazS0Za",
        "colab_type": "code",
        "outputId": "5f4fc682-2194-4de1-8b49-4ebc732b8131",
        "colab": {
          "base_uri": "https://localhost:8080/",
          "height": 185
        }
      },
      "source": [
        "number_of_particles = 10\n",
        "no_dims = 2\n",
        "\n",
        "swarm = Swarm(number_of_particles, no_dims, objectives)\n",
        "swarm.init_swarm()\n",
        "\n",
        "max_archive_size = 12\n",
        "archive = Archive(max_archive_size, no_dims, objectives)\n",
        "\n",
        "swarm.evaluate_objectives()\n",
        "swarm.set_best_positions()\n",
        "swarm.current_objectives"
      ],
      "execution_count": 0,
      "outputs": [
        {
          "output_type": "execute_result",
          "data": {
            "text/plain": [
              "array([[ 2.81923858, 41.78918671],\n",
              "       [ 1.67133179, 41.34164454],\n",
              "       [ 1.02994875, 43.46710959],\n",
              "       [ 4.19398559, 36.60968833],\n",
              "       [ 0.87134539, 44.81310083],\n",
              "       [ 0.53640972, 44.97422915],\n",
              "       [ 1.59644449, 41.68376784],\n",
              "       [ 0.07945262, 48.03790315],\n",
              "       [ 2.92357929, 38.80633712],\n",
              "       [ 2.10151625, 40.31892246]])"
            ]
          },
          "metadata": {
            "tags": []
          },
          "execution_count": 29
        }
      ]
    },
    {
      "cell_type": "markdown",
      "metadata": {
        "id": "d2GQ-Y66Uf2t",
        "colab_type": "text"
      },
      "source": [
        "Initialization part 2 - archive"
      ]
    },
    {
      "cell_type": "code",
      "metadata": {
        "id": "h_QAVNcnUfYT",
        "colab_type": "code",
        "outputId": "51117fff-6db7-4b0b-cb5c-292bfd661114",
        "colab": {
          "base_uri": "https://localhost:8080/",
          "height": 34
        }
      },
      "source": [
        "archive.archive_update(swarm)\n",
        "archive.evaluate_fitnesses()"
      ],
      "execution_count": 0,
      "outputs": [
        {
          "output_type": "stream",
          "text": [
            "/usr/local/lib/python3.6/dist-packages/ipykernel_launcher.py:41: RuntimeWarning: invalid value encountered in true_divide\n"
          ],
          "name": "stderr"
        }
      ]
    },
    {
      "cell_type": "markdown",
      "metadata": {
        "id": "8AC3hXUFXN9-",
        "colab_type": "text"
      },
      "source": [
        "Main loop"
      ]
    },
    {
      "cell_type": "code",
      "metadata": {
        "id": "-2K5dhO_XFGG",
        "colab_type": "code",
        "outputId": "56aba8c7-1a7d-42ae-e830-1376190680be",
        "colab": {
          "base_uri": "https://localhost:8080/",
          "height": 67
        }
      },
      "source": [
        "import time\n",
        "import matplotlib\n",
        "import matplotlib.pyplot as plt\n",
        "\n",
        "max_iter = 100\n",
        "i = 0\n",
        "inertial_weight = 1\n",
        "lr_1 = 1\n",
        "lr_2 = 1\n",
        "lr_3 = 1\n",
        "swarm = Swarm(10,2,objectives)\n",
        "\n",
        "then = time.time()\n",
        "fitnesses = []\n",
        "trace = []\n",
        "\n",
        "while i < max_iter:\n",
        "  swarm.update_velocities(archive)\n",
        "  swarm.update_positions()\n",
        "  swarm.evaluate_objectives()\n",
        "  swarm.set_best_positions()\n",
        "  archive.archive_update(swarm) #BFE is here\n",
        "  #evolutionary search stratedy is applied on archive to get a new swarm - probably one step of some EA - write some function for it \n",
        "  swarm = evolutionary_search(archive) # or archive.evolutionary_search() ¯\\_(ツ)_/¯\n",
        "  swarm.evaluate_objectives()\n",
        "  swarm.set_best_positions()\n",
        "  archive.archive_update(swarm) #BFE is here'''\n",
        "  fitnesses.append(min(swarm.fitnesses))\n",
        "  trace.append(swarm.positions[np.argmin(swarm.fitnesses)])\n",
        "  i = i + 2\n",
        "  \n",
        "#print(swarm.positions)\n",
        "print(swarm.positions[0,:])\n",
        "\n",
        "now = time.time()\n",
        "print(now-then)\n",
        "print(\"end\")\n",
        "\n"
      ],
      "execution_count": 0,
      "outputs": [
        {
          "output_type": "stream",
          "text": [
            "[0.22437957 0.88120923]\n",
            "0.08300375938415527\n",
            "end\n"
          ],
          "name": "stdout"
        }
      ]
    },
    {
      "cell_type": "markdown",
      "metadata": {
        "id": "ps7IYlpfSgPm",
        "colab_type": "text"
      },
      "source": [
        "#Visualisation"
      ]
    },
    {
      "cell_type": "code",
      "metadata": {
        "id": "qlaBNvE8uHkw",
        "colab_type": "code",
        "outputId": "78e31e61-afd9-42cd-f618-e4ea93fdcddb",
        "colab": {
          "base_uri": "https://localhost:8080/",
          "height": 566
        }
      },
      "source": [
        "plt.figure(0)\n",
        "plt.plot(fitnesses)\n",
        "print(trace)\n",
        "plt.figure(1)\n",
        "trace = np.array(trace)\n",
        "plt.plot(*trace.T)\n"
      ],
      "execution_count": 0,
      "outputs": [
        {
          "output_type": "stream",
          "text": [
            "[array([0.12785875, 0.99790477]), array([0.5318445 , 0.66863595]), array([0.70176697, 0.64354619]), array([0.47399132, 0.53455247]), array([0.42566911, 0.88120923]), array([0.20537044, 0.53455247]), array([0.42566911, 0.20592984]), array([0.2531349 , 0.91143721]), array([0.28825115, 1.02151726]), array([0.47399132, 0.58643295]), array([0.39793019, 0.7408702 ]), array([0.06114299, 0.18424176]), array([0.39406461, 0.0318465 ]), array([0.37096791, 0.52753069]), array([0.68053481, 0.66744925]), array([0.61941603, 0.19176556]), array([0.54716242, 0.88120923]), array([0.22437957, 0.91143721]), array([0.53027457, 0.6274481 ]), array([0.47399132, 0.58643295]), array([0.3763516 , 0.64354619]), array([0.60341353, 0.47806842]), array([0.5406386, 0.9438252]), array([0.29477513, 0.89540834]), array([0.2531349 , 0.58643295]), array([0.70176697, 0.53405719]), array([0.20345409, 0.61237692]), array([0.60679813, 0.93356682]), array([0.42566911, 0.64354619]), array([0.41544062, 0.52810209]), array([0.50277437, 0.56163157]), array([0.56004819, 0.93662462]), array([0.08963274, 0.08626419]), array([0.47399132, 0.99937285]), array([0.2531349 , 0.53405719]), array([0.22679176, 0.97751987]), array([0.20537044, 0.53405719]), array([0.09021544, 0.99937285]), array([0.47399132, 0.20592984]), array([0.45649239, 0.50554908]), array([0.09021544, 0.59409616]), array([0.22437957, 0.99937285]), array([0.71307615, 0.10298567]), array([0.32813134, 0.52338027]), array([0.22437957, 0.20592984]), array([0.22437957, 0.99937285]), array([0.2531349 , 0.64354619]), array([0.14867176, 0.60962655]), array([0.47399132, 0.12232126]), array([0.22437957, 0.88120923])]\n"
          ],
          "name": "stdout"
        },
        {
          "output_type": "execute_result",
          "data": {
            "text/plain": [
              "[<matplotlib.lines.Line2D at 0x7fbba9375128>]"
            ]
          },
          "metadata": {
            "tags": []
          },
          "execution_count": 32
        },
        {
          "output_type": "display_data",
          "data": {
            "image/png": "[encoded data removed]",
            "text/plain": [
              "<Figure size 432x288 with 1 Axes>"
            ]
          },
          "metadata": {
            "tags": []
          }
        },
        {
          "output_type": "display_data",
          "data": {
            "image/png": "[encoded data removed]",
            "text/plain": [
              "<Figure size 432x288 with 1 Axes>"
            ]
          },
          "metadata": {
            "tags": []
          }
        }
      ]
    },
    {
      "cell_type": "markdown",
      "metadata": {
        "id": "kUFE6kRaBv4K",
        "colab_type": "text"
      },
      "source": [
        ""
      ]
    },
    {
      "cell_type": "code",
      "metadata": {
        "id": "ArTahWDt6laA",
        "colab_type": "code",
        "outputId": "12cb8eb2-30a9-4923-81bb-8ad28fbe0117",
        "colab": {
          "base_uri": "https://localhost:8080/",
          "height": 282
        }
      },
      "source": [
        "plt.scatter(archive.arch.positions[:,0], archive.arch.positions[:,1])"
      ],
      "execution_count": 0,
      "outputs": [
        {
          "output_type": "execute_result",
          "data": {
            "text/plain": [
              "<matplotlib.collections.PathCollection at 0x7fbba92f2828>"
            ]
          },
          "metadata": {
            "tags": []
          },
          "execution_count": 33
        },
        {
          "output_type": "display_data",
          "data": {
            "image/png": "[encoded data removed]",
            "text/plain": [
              "<Figure size 432x288 with 1 Axes>"
            ]
          },
          "metadata": {
            "tags": []
          }
        }
      ]
    }
  ]
}